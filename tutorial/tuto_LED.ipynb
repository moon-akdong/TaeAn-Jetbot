{
 "cells": [
  {
   "cell_type": "code",
   "execution_count": 28,
   "id": "5a435d24",
   "metadata": {},
   "outputs": [],
   "source": [
    "import sys\n",
    "sys.path.append('../')\n",
    "from RGB_Lib import Programing_RGB\n",
    "RGB = Programing_RGB()\n",
    "RGB.Set_All_RGB(0xff,0x00,0x00)\n",
    "\n",
    "# 특정 순서의 LED 설정 변경 \n",
    "RGB.Set_An_RGB(0,0xff,0xFF,0xFF)\n",
    "RGB.Set_An_RGB(5,0xff,0xFF,0xFF) # ind, color,color,color"
   ]
  },
  {
   "cell_type": "code",
   "execution_count": null,
   "id": "1dac3967",
   "metadata": {},
   "outputs": [],
   "source": [
    "# 앞쪽 LED만 변경 \n",
    "RGB.Set_An_RGB(4,0xff,0xFF,0xFF)\n",
    "RGB.Set_An_RGB(9,0xff,0xFF,0xFF) # ind, color,color,color"
   ]
  },
  {
   "cell_type": "code",
   "execution_count": 30,
   "id": "a2214c15",
   "metadata": {},
   "outputs": [],
   "source": [
    "RGB.Set_ChameleonLight_RGB() # 카멜레온 모드 "
   ]
  },
  {
   "cell_type": "code",
   "execution_count": null,
   "id": "78a5a3a3",
   "metadata": {},
   "outputs": [],
   "source": [
    "RGB.Set_WaterfallLight_RGB() # 첫번째 LED 부터 순서대로 켜기 "
   ]
  },
  {
   "cell_type": "code",
   "execution_count": 34,
   "id": "a7b72927",
   "metadata": {},
   "outputs": [],
   "source": [
    "RGB.Set_BreathColor_RGB()"
   ]
  },
  {
   "cell_type": "code",
   "execution_count": 42,
   "id": "43e94a0f",
   "metadata": {},
   "outputs": [],
   "source": [
    "RGB.Set_BreathSColor_RGB(3)\n",
    "RGB.Set_BreathSSpeed_RGB(3)\n",
    "RGB.Set_BreathSLight_RGB()"
   ]
  },
  {
   "cell_type": "markdown",
   "id": "f9be96de",
   "metadata": {},
   "source": []
  }
 ],
 "metadata": {
  "kernelspec": {
   "display_name": "Python 3",
   "language": "python",
   "name": "python3"
  }
 },
 "nbformat": 4,
 "nbformat_minor": 5
}
