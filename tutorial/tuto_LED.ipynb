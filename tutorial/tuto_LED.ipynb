{
 "cells": [
  {
   "cell_type": "code",
   "execution_count": 1,
   "id": "5a435d24",
   "metadata": {},
   "outputs": [],
   "source": [
    "from RGB_Lib import Programing_RGB\n",
    "RGB = Programing_RGB()\n",
    "\n",
    "RGB.Set_An_RGB(0,0xff,0xFF,0xFF)\n",
    "RGB.Set_An_RGB(5,0xff,0xFF,0xFF) # ind, color,color,color"
   ]
  },
  {
   "cell_type": "code",
   "execution_count": 2,
   "id": "a2214c15",
   "metadata": {},
   "outputs": [],
   "source": [
    "RGB.Set_ChameleonLight_RGB()"
   ]
  },
  {
   "cell_type": "code",
   "execution_count": null,
   "id": "78a5a3a3",
   "metadata": {},
   "outputs": [],
   "source": []
  }
 ],
 "metadata": {
  "kernelspec": {
   "display_name": "Python 3",
   "language": "python",
   "name": "python3"
  }
 },
 "nbformat": 4,
 "nbformat_minor": 5
}
