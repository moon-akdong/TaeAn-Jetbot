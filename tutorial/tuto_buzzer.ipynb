{
 "cells": [
  {
   "cell_type": "code",
   "execution_count": null,
   "id": "934f975c",
   "metadata": {},
   "outputs": [],
   "source": [
    "import RPi.GPIO as GPIO\n",
    "import time\n",
    "\n",
    "BEEP_PIN = 6\n",
    "GPIO.setmode(GPIO.BCM)\n",
    "GPIO.setup(BEEP_PIN, GPIO.OUT,initial=GPIO.LOW)"
   ]
  },
  {
   "cell_type": "code",
   "execution_count": null,
   "id": "efb4d97b",
   "metadata": {},
   "outputs": [],
   "source": [
    "def Beep(beep_time):\n",
    "    GPIO.output(BEEP_PIN,GPIO.HIGH)\n",
    "    time.sleep(beep_time)\n",
    "    GPIO.output(BEEP_PIN,GPIO.LOW)\n",
    "\n",
    "for i in range(3):\n",
    "    Beep(0.2)\n",
    "    time.sleep(0.5)\n",
    "    \n",
    "\n",
    "# GPIO.HIGH = 소리 발생 \n",
    "# GPIO.LOW = 소리 중지 "
   ]
  }
 ],
 "metadata": {
  "language_info": {
   "name": "python"
  }
 },
 "nbformat": 4,
 "nbformat_minor": 5
}
