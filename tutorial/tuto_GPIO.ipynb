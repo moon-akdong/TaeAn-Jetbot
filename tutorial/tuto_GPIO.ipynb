{
 "cells": [
  {
   "cell_type": "markdown",
   "id": "203f518b",
   "metadata": {},
   "source": [
    "# Board LED 조작 - GPIO"
   ]
  },
  {
   "cell_type": "code",
   "execution_count": 1,
   "id": "811ca309",
   "metadata": {},
   "outputs": [
    {
     "name": "stdout",
     "output_type": "stream",
     "text": [
      "height 1\n",
      "low 0\n"
     ]
    },
    {
     "name": "stderr",
     "output_type": "stream",
     "text": [
      "WARNING: Carrier board is not from a Jetson Developer Kit.\n",
      "WARNNIG: Jetson.GPIO library has not been verified with this carrier board,\n",
      "WARNING: and in fact is unlikely to work correctly.\n"
     ]
    }
   ],
   "source": [
    "import RPi.GPIO as GPIO\n",
    "import time\n",
    "\n",
    "# Pin number \n",
    "green_light_pin = 24\n",
    "blue_light_pin = 23 \n",
    "red_light_pin = 22 \n",
    "\n",
    "print(\"height\",GPIO.HIGH)\n",
    "print(\"low\",GPIO.LOW)"
   ]
  },
  {
   "cell_type": "code",
   "execution_count": 3,
   "id": "e314353f",
   "metadata": {},
   "outputs": [],
   "source": [
    "def main(light_pin):\n",
    "    # Set pin to ouput mode, and set level is high\n",
    "    # 핀에 전원을 출력해야 led를 켤 수 있으니 출력 제어인 OUTPUT모드로 설정 \n",
    "    GPIO.setmode(GPIO.BCM) # 제어모드\n",
    "    GPIO.setup(light_pin,GPIO.OUT,initial = GPIO.HIGH) # 해당포트의 입출력 방향 \n",
    "    \n",
    "    print(\"Starting Demo now!\")\n",
    "    curr_value = GPIO.HIGH\n",
    "    try:\n",
    "        count = 0\n",
    "        while True:\n",
    "            time.sleep(0.25)\n",
    "            print(\"Outputting {} to pin {}\".format(curr_value,light_pin))\n",
    "            GPIO.output(light_pin,curr_value) \n",
    "            # 해당 포트가 출력 전용일 때는 제어 값을 쓰거나 \n",
    "            # 입력 전용일 때는 값을 읽습니다.\n",
    "            curr_value ^= GPIO.HIGH\n",
    "            # ^= XOR연산자, 두 비트가 서로 다를 때만 1을 반환, 같으면 0을 반환 \n",
    "            count +=1 \n",
    "            if count == 21:\n",
    "                break\n",
    "            \n",
    "    finally:\n",
    "          GPIO.cleanup()\n",
    "    GPIO.cleanup()     \n",
    "# 1이 꺼지는 것 GPIO.HIGHT = 1 \n"
   ]
  },
  {
   "cell_type": "code",
   "execution_count": 4,
   "id": "99439749",
   "metadata": {},
   "outputs": [
    {
     "name": "stdout",
     "output_type": "stream",
     "text": [
      "Starting Demo now!\n",
      "Outputting 1 to pin 24\n",
      "Outputting 0 to pin 24\n",
      "Outputting 1 to pin 24\n",
      "Outputting 0 to pin 24\n",
      "Outputting 1 to pin 24\n",
      "Outputting 0 to pin 24\n",
      "Outputting 1 to pin 24\n",
      "Outputting 0 to pin 24\n",
      "Outputting 1 to pin 24\n",
      "Outputting 0 to pin 24\n",
      "Outputting 1 to pin 24\n",
      "Outputting 0 to pin 24\n",
      "Outputting 1 to pin 24\n",
      "Outputting 0 to pin 24\n",
      "Outputting 1 to pin 24\n",
      "Outputting 0 to pin 24\n",
      "Outputting 1 to pin 24\n",
      "Outputting 0 to pin 24\n",
      "Outputting 1 to pin 24\n",
      "Outputting 0 to pin 24\n",
      "Outputting 1 to pin 24\n"
     ]
    },
    {
     "name": "stderr",
     "output_type": "stream",
     "text": [
      "/usr/local/lib/python3.6/dist-packages/Jetson/GPIO/gpio.py:377: RuntimeWarning: No channels have been set up yet - nothing to clean up! Try cleaning up at the end of your program instead!\n",
      "  \"program instead!\", RuntimeWarning)\n"
     ]
    }
   ],
   "source": [
    "if __name__ == '__main__':\n",
    "    main(green_light_pin)"
   ]
  },
  {
   "cell_type": "markdown",
   "id": "5e11ee2a",
   "metadata": {},
   "source": [
    "# Button LED 조작 - GPIO"
   ]
  },
  {
   "cell_type": "code",
   "execution_count": null,
   "id": "b6dd957b",
   "metadata": {},
   "outputs": [],
   "source": [
    "import RPi.GPIO as GPIO\n",
    "import time \n",
    "\n",
    "led_pin = 24\n",
    "key1_pin = 8\n",
    "\n",
    "def main():\n",
    "    prev_value = None\n",
    "    \n",
    "    GPIO.setmode(GPIO.BCM)\n",
    "    GPIO.setup(led_pin,GPIO.OUT)\n",
    "    GPIO.setup(key1_pin,GPIO.IN)\n",
    "\n",
    "    GPIO.output(led_pin,GPIO.LOW)\n",
    "    print(\"Starting Demo now!\")\n",
    "    try:\n",
    "        while True:\n",
    "            curr_value = GPIO.input(key1_pin)\n",
    "            if curr_value != prev_value:\n",
    "                print(\"Key pressed\")\n",
    "                GPIO.output(led_pin,curr_value)\n",
    "                prev_value = curr_value\n",
    "                print(\"Outputting {} to pin {}\".format(curr_value,led_pin))\n",
    "    finally:\n",
    "        GPIO.cleanup()\n",
    "\n",
    "if __name__ == \"__main__\":\n",
    "    main()"
   ]
  }
 ],
 "metadata": {
  "kernelspec": {
   "display_name": "Python 3",
   "language": "python",
   "name": "python3"
  }
 },
 "nbformat": 4,
 "nbformat_minor": 5
}
