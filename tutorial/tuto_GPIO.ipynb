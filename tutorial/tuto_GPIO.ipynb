{
 "cells": [
  {
   "cell_type": "markdown",
   "id": "203f518b",
   "metadata": {},
   "source": [
    "# Board LED 조작 - GPIO"
   ]
  },
  {
   "cell_type": "code",
   "execution_count": null,
   "id": "811ca309",
   "metadata": {},
   "outputs": [
    {
     "name": "stdout",
     "output_type": "stream",
     "text": [
      "height 1\n",
      "low 0\n"
     ]
    }
   ],
   "source": [
    "import RPi.GPIO as GPIO\n",
    "import time\n",
    "\n",
    "# Pin number \n",
    "green_light_pin = 24\n",
    "blue_light_pin = 23 \n",
    "\n",
    "\n",
    "print(\"height\",GPIO.HIGH)\n",
    "print(\"low\",GPIO.LOW)"
   ]
  },
  {
   "cell_type": "code",
   "execution_count": 20,
   "id": "e314353f",
   "metadata": {},
   "outputs": [],
   "source": [
    "def main(light_pin):\n",
    "    # Set pin to ouput mode, and set level is high\n",
    "    # 핀에 전원을 출력해야 led를 켤 수 있으니 출력 제어인 OUTPUT모드로 설정 \n",
    "    GPIO.setmode(GPIO.BCM) # 제어모드\n",
    "    GPIO.setup(light_pin,GPIO.OUT,initial = GPIO.HIGH) # 해당포트의 입출력 방향 \n",
    "    \n",
    "    print(\"Starting Demo now!\")\n",
    "    curr_value = GPIO.HIGH\n",
    "    try:\n",
    "        count = 0\n",
    "        while True:\n",
    "            time.sleep(0.25)\n",
    "            print(\"Outputting {} to pin {}\".format(curr_value,light_pin))\n",
    "            GPIO.output(light_pin,curr_value) \n",
    "            # 해당 포트가 출력 전용일 때는 제어 값을 쓰거나 \n",
    "            # 입력 전용일 때는 값을 읽습니다.\n",
    "            curr_value ^= GPIO.HIGH\n",
    "            # ^= XOR연산자, 두 비트가 서로 다를 때만 1을 반환, 같으면 0을 반환 \n",
    "            count +=1 \n",
    "            if count == 21:\n",
    "                break\n",
    "            \n",
    "    finally:\n",
    "          GPIO.cleanup()\n",
    "    GPIO.cleanup()     \n",
    "# 1이 꺼지는 것 GPIO.HIGHT = 1 \n"
   ]
  },
  {
   "cell_type": "code",
   "execution_count": 21,
   "id": "99439749",
   "metadata": {},
   "outputs": [
    {
     "name": "stdout",
     "output_type": "stream",
     "text": [
      "Starting Demo now!\n",
      "Outputting 1 to pin 24\n",
      "Outputting 0 to pin 24\n",
      "Outputting 1 to pin 24\n",
      "Outputting 0 to pin 24\n",
      "Outputting 1 to pin 24\n",
      "Outputting 0 to pin 24\n",
      "Outputting 1 to pin 24\n",
      "Outputting 0 to pin 24\n",
      "Outputting 1 to pin 24\n",
      "Outputting 0 to pin 24\n",
      "Outputting 1 to pin 24\n",
      "Outputting 0 to pin 24\n",
      "Outputting 1 to pin 24\n",
      "Outputting 0 to pin 24\n",
      "Outputting 1 to pin 24\n",
      "Outputting 0 to pin 24\n",
      "Outputting 1 to pin 24\n",
      "Outputting 0 to pin 24\n",
      "Outputting 1 to pin 24\n",
      "Outputting 0 to pin 24\n",
      "Outputting 1 to pin 24\n"
     ]
    },
    {
     "name": "stderr",
     "output_type": "stream",
     "text": [
      "/usr/local/lib/python3.6/dist-packages/Jetson/GPIO/gpio.py:377: RuntimeWarning: No channels have been set up yet - nothing to clean up! Try cleaning up at the end of your program instead!\n",
      "  \"program instead!\", RuntimeWarning)\n"
     ]
    }
   ],
   "source": [
    "if __name__ == '__main__':\n",
    "    main(green_light_pin)"
   ]
  },
  {
   "cell_type": "markdown",
   "id": "5e11ee2a",
   "metadata": {},
   "source": [
    "# Button LED 조작 - GPIO"
   ]
  },
  {
   "cell_type": "code",
   "execution_count": null,
   "id": "b6dd957b",
   "metadata": {},
   "outputs": [
    {
     "name": "stderr",
     "output_type": "stream",
     "text": [
      "/usr/local/lib/python3.6/dist-packages/Jetson/GPIO/gpio.py:352: RuntimeWarning: This channel is already in use, continuing anyway. Use GPIO.setwarnings(False) to disable warnings\n",
      "  RuntimeWarning)\n"
     ]
    },
    {
     "name": "stdout",
     "output_type": "stream",
     "text": [
      "Starting Demo now!\n",
      "Key pressed\n",
      "Outputting 1 to pin 24\n",
      "Key pressed\n",
      "Outputting 0 to pin 24\n",
      "Key pressed\n",
      "Outputting 1 to pin 24\n",
      "Key pressed\n",
      "Outputting 0 to pin 24\n",
      "Key pressed\n",
      "Outputting 1 to pin 24\n",
      "Key pressed\n",
      "Outputting 0 to pin 24\n",
      "Key pressed\n",
      "Outputting 1 to pin 24\n"
     ]
    },
    {
     "ename": "KeyboardInterrupt",
     "evalue": "",
     "output_type": "error",
     "traceback": [
      "\u001b[0;31m---------------------------------------------------------------------------\u001b[0m",
      "\u001b[0;31mKeyboardInterrupt\u001b[0m                         Traceback (most recent call last)",
      "\u001b[0;32m<ipython-input-22-9432c14b62f2>\u001b[0m in \u001b[0;36m<module>\u001b[0;34m\u001b[0m\n\u001b[1;32m     26\u001b[0m \u001b[0;34m\u001b[0m\u001b[0m\n\u001b[1;32m     27\u001b[0m \u001b[0;32mif\u001b[0m \u001b[0m__name__\u001b[0m \u001b[0;34m==\u001b[0m \u001b[0;34m\"__main__\"\u001b[0m\u001b[0;34m:\u001b[0m\u001b[0;34m\u001b[0m\u001b[0;34m\u001b[0m\u001b[0m\n\u001b[0;32m---> 28\u001b[0;31m     \u001b[0mmain\u001b[0m\u001b[0;34m(\u001b[0m\u001b[0;34m)\u001b[0m\u001b[0;34m\u001b[0m\u001b[0;34m\u001b[0m\u001b[0m\n\u001b[0m",
      "\u001b[0;32m<ipython-input-22-9432c14b62f2>\u001b[0m in \u001b[0;36mmain\u001b[0;34m()\u001b[0m\n\u001b[1;32m     16\u001b[0m     \u001b[0;32mtry\u001b[0m\u001b[0;34m:\u001b[0m\u001b[0;34m\u001b[0m\u001b[0;34m\u001b[0m\u001b[0m\n\u001b[1;32m     17\u001b[0m         \u001b[0;32mwhile\u001b[0m \u001b[0;32mTrue\u001b[0m\u001b[0;34m:\u001b[0m\u001b[0;34m\u001b[0m\u001b[0;34m\u001b[0m\u001b[0m\n\u001b[0;32m---> 18\u001b[0;31m             \u001b[0mcurr_value\u001b[0m \u001b[0;34m=\u001b[0m \u001b[0mGPIO\u001b[0m\u001b[0;34m.\u001b[0m\u001b[0minput\u001b[0m\u001b[0;34m(\u001b[0m\u001b[0mkey1_pin\u001b[0m\u001b[0;34m)\u001b[0m\u001b[0;34m\u001b[0m\u001b[0;34m\u001b[0m\u001b[0m\n\u001b[0m\u001b[1;32m     19\u001b[0m             \u001b[0;32mif\u001b[0m \u001b[0mcurr_value\u001b[0m \u001b[0;34m!=\u001b[0m \u001b[0mprev_value\u001b[0m\u001b[0;34m:\u001b[0m\u001b[0;34m\u001b[0m\u001b[0;34m\u001b[0m\u001b[0m\n\u001b[1;32m     20\u001b[0m                 \u001b[0mprint\u001b[0m\u001b[0;34m(\u001b[0m\u001b[0;34m\"Key pressed\"\u001b[0m\u001b[0;34m)\u001b[0m\u001b[0;34m\u001b[0m\u001b[0;34m\u001b[0m\u001b[0m\n",
      "\u001b[0;32m/usr/local/lib/python3.6/dist-packages/Jetson/GPIO/gpio.py\u001b[0m in \u001b[0;36minput\u001b[0;34m(channel)\u001b[0m\n\u001b[1;32m    398\u001b[0m         \u001b[0;32mraise\u001b[0m \u001b[0mRuntimeError\u001b[0m\u001b[0;34m(\u001b[0m\u001b[0;34m\"You must setup() the GPIO channel first\"\u001b[0m\u001b[0;34m)\u001b[0m\u001b[0;34m\u001b[0m\u001b[0;34m\u001b[0m\u001b[0m\n\u001b[1;32m    399\u001b[0m \u001b[0;34m\u001b[0m\u001b[0m\n\u001b[0;32m--> 400\u001b[0;31m     \u001b[0;32mwith\u001b[0m \u001b[0mopen\u001b[0m\u001b[0;34m(\u001b[0m\u001b[0m_SYSFS_ROOT\u001b[0m \u001b[0;34m+\u001b[0m \u001b[0;34m\"/gpio%i\"\u001b[0m \u001b[0;34m%\u001b[0m \u001b[0mch_info\u001b[0m\u001b[0;34m.\u001b[0m\u001b[0mgpio\u001b[0m \u001b[0;34m+\u001b[0m \u001b[0;34m\"/value\"\u001b[0m\u001b[0;34m)\u001b[0m \u001b[0;32mas\u001b[0m \u001b[0mvalue\u001b[0m\u001b[0;34m:\u001b[0m\u001b[0;34m\u001b[0m\u001b[0;34m\u001b[0m\u001b[0m\n\u001b[0m\u001b[1;32m    401\u001b[0m         \u001b[0mvalue_read\u001b[0m \u001b[0;34m=\u001b[0m \u001b[0mint\u001b[0m\u001b[0;34m(\u001b[0m\u001b[0mvalue\u001b[0m\u001b[0;34m.\u001b[0m\u001b[0mread\u001b[0m\u001b[0;34m(\u001b[0m\u001b[0;34m)\u001b[0m\u001b[0;34m)\u001b[0m\u001b[0;34m\u001b[0m\u001b[0;34m\u001b[0m\u001b[0m\n\u001b[1;32m    402\u001b[0m         \u001b[0;32mreturn\u001b[0m \u001b[0mvalue_read\u001b[0m\u001b[0;34m\u001b[0m\u001b[0;34m\u001b[0m\u001b[0m\n",
      "\u001b[0;32m/usr/lib/python3.6/_bootlocale.py\u001b[0m in \u001b[0;36mgetpreferredencoding\u001b[0;34m(do_setlocale)\u001b[0m\n\u001b[1;32m     23\u001b[0m         \u001b[0;32mdef\u001b[0m \u001b[0mgetpreferredencoding\u001b[0m\u001b[0;34m(\u001b[0m\u001b[0mdo_setlocale\u001b[0m\u001b[0;34m=\u001b[0m\u001b[0;32mTrue\u001b[0m\u001b[0;34m)\u001b[0m\u001b[0;34m:\u001b[0m\u001b[0;34m\u001b[0m\u001b[0;34m\u001b[0m\u001b[0m\n\u001b[1;32m     24\u001b[0m             \u001b[0;32massert\u001b[0m \u001b[0;32mnot\u001b[0m \u001b[0mdo_setlocale\u001b[0m\u001b[0;34m\u001b[0m\u001b[0;34m\u001b[0m\u001b[0m\n\u001b[0;32m---> 25\u001b[0;31m             \u001b[0mresult\u001b[0m \u001b[0;34m=\u001b[0m \u001b[0m_locale\u001b[0m\u001b[0;34m.\u001b[0m\u001b[0mnl_langinfo\u001b[0m\u001b[0;34m(\u001b[0m\u001b[0m_locale\u001b[0m\u001b[0;34m.\u001b[0m\u001b[0mCODESET\u001b[0m\u001b[0;34m)\u001b[0m\u001b[0;34m\u001b[0m\u001b[0;34m\u001b[0m\u001b[0m\n\u001b[0m\u001b[1;32m     26\u001b[0m             \u001b[0;32mif\u001b[0m \u001b[0;32mnot\u001b[0m \u001b[0mresult\u001b[0m \u001b[0;32mand\u001b[0m \u001b[0msys\u001b[0m\u001b[0;34m.\u001b[0m\u001b[0mplatform\u001b[0m \u001b[0;34m==\u001b[0m \u001b[0;34m'darwin'\u001b[0m\u001b[0;34m:\u001b[0m\u001b[0;34m\u001b[0m\u001b[0;34m\u001b[0m\u001b[0m\n\u001b[1;32m     27\u001b[0m                 \u001b[0;31m# nl_langinfo can return an empty string\u001b[0m\u001b[0;34m\u001b[0m\u001b[0;34m\u001b[0m\u001b[0;34m\u001b[0m\u001b[0m\n",
      "\u001b[0;31mKeyboardInterrupt\u001b[0m: "
     ]
    }
   ],
   "source": [
    "import RPi.GPIO as GPIO\n",
    "import time \n",
    "\n",
    "led_pin = 24\n",
    "key1_pin = 8\n",
    "key2_pin = 7\n",
    "\n",
    "def main():\n",
    "    prev_value = None\n",
    "    \n",
    "    GPIO.setmode(GPIO.BCM)\n",
    "    GPIO.setup(led_pin,GPIO.OUT)\n",
    "    GPIO.setup(key1_pin,GPIO.IN)\n",
    "\n",
    "    GPIO.output(led_pin,GPIO.LOW)\n",
    "    print(\"Starting Demo now!\")\n",
    "    try:\n",
    "        while True:\n",
    "            curr_value = GPIO.input(key1_pin)\n",
    "            if curr_value != prev_value:\n",
    "                print(\"Key pressed\")\n",
    "                GPIO.output(led_pin,curr_value)\n",
    "                prev_value = curr_value\n",
    "                print(\"Outputting {} to pin {}\".format(curr_value,led_pin))\n",
    "    finally:\n",
    "        GPIO.cleanup()\n",
    "\n",
    "if __name__ == \"__main__\":\n",
    "    main()"
   ]
  },
  {
   "cell_type": "code",
   "execution_count": null,
   "id": "12227931",
   "metadata": {},
   "outputs": [],
   "source": []
  }
 ],
 "metadata": {
  "kernelspec": {
   "display_name": "Python 3",
   "language": "python",
   "name": "python3"
  },
  "language_info": {
   "codemirror_mode": {
    "name": "ipython",
    "version": 3
   },
   "file_extension": ".py",
   "mimetype": "text/x-python",
   "name": "python",
   "nbconvert_exporter": "python",
   "pygments_lexer": "ipython3",
   "version": "3.6.9"
  }
 },
 "nbformat": 4,
 "nbformat_minor": 5
}
