{
 "cells": [
  {
   "cell_type": "code",
   "execution_count": null,
   "id": "cc03dcce",
   "metadata": {},
   "outputs": [],
   "source": [
    "from jetbot import Camera\n",
    "from jetbot import bgr8_to_jpeg\n",
    "import traitlets\n",
    "import ipywidgets.widgets as widgets\n",
    "from IPython.display import display\n",
    "import cv2\n",
    "\n",
    "\n",
    "camera = Camera.instance(width=300,height=300)\n",
    "detect_image = widgets.Image(format='jpeg',width=300,height=300)\n",
    "display(detect_image)"
   ]
  },
  {
   "cell_type": "code",
   "execution_count": null,
   "id": "ac6ed12d",
   "metadata": {},
   "outputs": [],
   "source": [
    "while True:\n",
    "    frame = camera.value \n",
    "    frame = cv2.resize(frame,(300,300))\n",
    "    gray = cv2.cvtColor(frame,cv2.COLOR_BGR2GRAY)\n",
    "    \n",
    "    detect_image.value = bgr8_to_jpeg(frame) # detect_image에 value를 넣어줌 "
   ]
  }
 ],
 "metadata": {
  "language_info": {
   "name": "python"
  }
 },
 "nbformat": 4,
 "nbformat_minor": 5
}
