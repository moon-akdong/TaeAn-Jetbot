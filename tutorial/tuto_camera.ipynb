{
 "cells": [
  {
   "cell_type": "code",
   "execution_count": null,
   "id": "cc03dcce",
   "metadata": {},
   "outputs": [],
   "source": [
    "import sys\n",
    "sys.path.append('../')\n",
    "from jetbot import Camera\n",
    "from jetbot import bgr8_to_jpeg\n",
    "import traitlets\n",
    "import ipywidgets.widgets as widgets\n",
    "from IPython.display import display\n",
    "import cv2\n",
    "import PID\n",
    "\n",
    "\n",
    "camera = Camera.instance(width=300,height=300)\n",
    "global face_x, face_y, face_w, face_h\n",
    "face_x = face_y = face_w = face_h = 0\n",
    "global target_valuex\n",
    "target_valuex = 2048\n",
    "global target_valuey\n",
    "target_valuey = 2048\n",
    "\n",
    "xservo_pid = PID.PositionalPID(1.9, 0.3, 0.35)\n",
    "yservo_pid = PID.PositionalPID(1.5, 0.2, 0.3)"
   ]
  },
  {
   "cell_type": "code",
   "execution_count": null,
   "id": "76677494",
   "metadata": {},
   "outputs": [],
   "source": [
    "from servoserial import ServoSerial\n",
    "import traitlets\n",
    "import ipywidgets.widgets as widgets\n",
    "from IPython.display import display\n",
    "\n",
    "servo_device = ServoSerial() \n",
    "face_image = widgets.Image(format='jpeg', width=224, height=224)\n",
    "display(face_image)"
   ]
  },
  {
   "cell_type": "code",
   "execution_count": 1,
   "id": "1b17fc11",
   "metadata": {},
   "outputs": [],
   "source": [
    "import cv2\n",
    "face_cascade = cv2.CascadeClassifier('123.xml')"
   ]
  },
  {
   "cell_type": "code",
   "execution_count": null,
   "id": "ac6ed12d",
   "metadata": {},
   "outputs": [],
   "source": [
    "while True:\n",
    "    frame = camera.value \n",
    "    frame = cv2.resize(frame,(300,300))\n",
    "    gray = cv2.cvtColor(frame,cv2.COLOR_BGR2GRAY)\n",
    "    \n",
    "    detect_image.value = bgr8_to_jpeg(frame) # detect_image에 value를 넣어줌 "
   ]
  },
  {
   "cell_type": "code",
   "execution_count": null,
   "id": "81aaae7c",
   "metadata": {},
   "outputs": [],
   "source": [
    "from jetbot import Camera\n",
    "\n",
    "camera = Camera.instance(width=224, height=224)"
   ]
  },
  {
   "cell_type": "code",
   "execution_count": null,
   "id": "d8cd60d7",
   "metadata": {},
   "outputs": [],
   "source": [
    "import ipywidgets.widgets as widgets\n",
    "image = widgets.Image(format='jpeg', width=224, height=224)\n",
    "display(image)"
   ]
  },
  {
   "cell_type": "code",
   "execution_count": null,
   "id": "4f605575",
   "metadata": {},
   "outputs": [],
   "source": [
    "from jetbot import bgr8_to_jpeg\n",
    "import traitlets\n",
    "camera_link = traitlets.dlink((camera, 'value'), (image, 'value'), transform=bgr8_to_jpeg)"
   ]
  },
  {
   "cell_type": "code",
   "execution_count": null,
   "id": "14e28906",
   "metadata": {},
   "outputs": [],
   "source": [
    "from jetbot import Robot \n",
    "import time \n",
    "\n",
    "robot = Robot()\n",
    "# 전진 \n",
    "robot.left_motor.value = 0.8 # 0~1 사이의 값 , 0.01 단위로 조절 가능 \n",
    "robot.right_motor.value = 0.8 # 0~1 사이의 값 \n",
    "\n",
    "time.sleep(1)\n",
    "robot.stop()"
   ]
  },
  {
   "cell_type": "code",
   "execution_count": null,
   "id": "3b62b3f9",
   "metadata": {},
   "outputs": [],
   "source": []
  }
 ],
 "metadata": {
  "kernelspec": {
   "display_name": "Python 3",
   "language": "python",
   "name": "python3"
  },
  "language_info": {
   "codemirror_mode": {
    "name": "ipython",
    "version": 3
   },
   "file_extension": ".py",
   "mimetype": "text/x-python",
   "name": "python",
   "nbconvert_exporter": "python",
   "pygments_lexer": "ipython3",
   "version": "3.6.9"
  }
 },
 "nbformat": 4,
 "nbformat_minor": 5
}
