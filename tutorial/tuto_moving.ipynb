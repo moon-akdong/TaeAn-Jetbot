{
 "cells": [
  {
   "cell_type": "markdown",
   "id": "1fc5333d",
   "metadata": {},
   "source": [
    "# 휠 모터 조절"
   ]
  },
  {
   "cell_type": "code",
   "execution_count": 13,
   "id": "7ec211fb",
   "metadata": {},
   "outputs": [],
   "source": [
    "from jetbot import Robot \n",
    "import time \n",
    "\n",
    "robot = Robot()\n",
    "robot.left_motor.value = -1\n",
    "robot.right_motor.value = -1\n",
    "\n",
    "time.sleep(0.5)\n",
    "\n",
    "robot.left_motor.value = 0\n",
    "robot.right_motor.value = 0\n"
   ]
  },
  {
   "cell_type": "markdown",
   "id": "f5751802",
   "metadata": {},
   "source": [
    "# 카메라 높이 조절 모터"
   ]
  },
  {
   "cell_type": "code",
   "execution_count": 9,
   "id": "d154e734",
   "metadata": {},
   "outputs": [],
   "source": [
    "robot.up(1)\n",
    "time.sleep(1.0)\n",
    "robot.vertical_motors_stop()"
   ]
  },
  {
   "cell_type": "code",
   "execution_count": 10,
   "id": "5aa7b79f",
   "metadata": {},
   "outputs": [],
   "source": [
    "robot.down(1)\n",
    "time.sleep(1.0)\n",
    "robot.vertical_motors_stop()"
   ]
  },
  {
   "cell_type": "code",
   "execution_count": 11,
   "id": "51bf4fbf",
   "metadata": {},
   "outputs": [
    {
     "name": "stdout",
     "output_type": "stream",
     "text": [
      "serial Open!\n",
      "serial Close!\n",
      "132\n",
      "b'\\xff\\xff\\x01\\x07\\x03*\\x084\\x00\\n\\x84'\n",
      "183\n",
      "b'\\xff\\xff\\x02\\x07\\x03*\\x08\\x00\\x00\\n\\xb7'\n",
      "167\n",
      "b'\\xff\\xff\\x01\\x07\\x03*\\x05\\x14\\x00\\n\\xa7'\n",
      "166\n",
      "b'\\xff\\xff\\x02\\x07\\x03*\\x05\\x14\\x00\\n\\xa6'\n",
      "132\n",
      "b'\\xff\\xff\\x01\\x07\\x03*\\x084\\x00\\n\\x84'\n",
      "161\n",
      "b'\\xff\\xff\\x02\\x07\\x03*\\x0e\\x10\\x00\\n\\xa1'\n"
     ]
    }
   ],
   "source": [
    "import os \n",
    "os.system(\"sudo chmod 777 /dev/ttyTH1\")\n",
    "from servoserial import ServoSerial # sevo motor \n",
    "\n",
    "\n",
    "servo = ServoSerial()\n",
    "servo.Servo_serial_control(1,2100)\n",
    "time.sleep(0.2)\n",
    "servo.Servo_serial_control(2,2048)\n",
    "\n",
    "servo.Servo_serial_control(1,1300)\n",
    "time.sleep(0.2)\n",
    "servo.Servo_serial_control(2,1300)\n",
    "\n",
    "servo.Servo_serial_control(1,2100)\n",
    "time.sleep(0.2)\n",
    "servo.Servo_serial_control(2,3600)"
   ]
  },
  {
   "cell_type": "code",
   "execution_count": 12,
   "id": "3e2c2e1c",
   "metadata": {},
   "outputs": [
    {
     "name": "stdout",
     "output_type": "stream",
     "text": [
      "132\n",
      "b'\\xff\\xff\\x01\\x07\\x03*\\x084\\x00\\n\\x84'\n",
      "176\n",
      "b'\\xff\\xff\\x02\\x07\\x03*\\x07\\x08\\x00\\n\\xb0'\n"
     ]
    }
   ],
   "source": [
    "servo.Servo_serial_control(1,2100) # 정면\n",
    "time.sleep(0.2)\n",
    "servo.Servo_serial_control(2,1800)"
   ]
  },
  {
   "cell_type": "code",
   "execution_count": null,
   "id": "1fea7ac4",
   "metadata": {},
   "outputs": [],
   "source": []
  }
 ],
 "metadata": {
  "kernelspec": {
   "display_name": "Python 3",
   "language": "python",
   "name": "python3"
  }
 },
 "nbformat": 4,
 "nbformat_minor": 5
}
