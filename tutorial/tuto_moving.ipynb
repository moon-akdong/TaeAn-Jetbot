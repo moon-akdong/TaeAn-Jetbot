{
 "cells": [
  {
   "cell_type": "markdown",
   "id": "1fc5333d",
   "metadata": {},
   "source": [
    "# 휠 모터 조절"
   ]
  },
  {
   "cell_type": "code",
   "execution_count": 75,
   "id": "7ec211fb",
   "metadata": {},
   "outputs": [],
   "source": [
    "from jetbot import Robot \n",
    "import time \n",
    "\n",
    "robot = Robot()\n",
    "# 전진 \n",
    "robot.left_motor.value = 0.8 # 0~1 사이의 값 , 0.01 단위로 조절 가능 \n",
    "robot.right_motor.value = 0.8 # 0~1 사이의 값 \n",
    "\n",
    "time.sleep(0.5)\n",
    "robot.stop()\n"
   ]
  },
  {
   "cell_type": "code",
   "execution_count": 110,
   "id": "087436cb",
   "metadata": {},
   "outputs": [],
   "source": [
    "robot.forward(0.5)\n",
    "time.sleep(1)\n",
    "robot.stop()"
   ]
  },
  {
   "cell_type": "code",
   "execution_count": 108,
   "id": "1c07ea7d",
   "metadata": {},
   "outputs": [],
   "source": [
    "# 후진 \n",
    "robot.left_motor.value = -0.8 # - 0~1 사이의 값 \n",
    "robot.right_motor.value = -0.8 # - 0~1 사이의 값 \n",
    "\n",
    "time.sleep(1)\n",
    "robot.stop()"
   ]
  },
  {
   "cell_type": "code",
   "execution_count": null,
   "id": "83b60858",
   "metadata": {},
   "outputs": [
    {
     "ename": "",
     "evalue": "",
     "output_type": "error",
     "traceback": [
      "\u001b[1;31mCanceled future for execute_request message before replies were done"
     ]
    },
    {
     "ename": "",
     "evalue": "",
     "output_type": "error",
     "traceback": [
      "\u001b[1;31mCanceled future for execute_request message before replies were done. \n",
      "\u001b[1;31mView Jupyter <a href='command:jupyter.viewOutput'>log</a> for further details."
     ]
    }
   ],
   "source": [
    "robot.backward(0.5)\n",
    "time.sleep(0.5)\n",
    "robot.stop()"
   ]
  },
  {
   "cell_type": "code",
   "execution_count": 99,
   "id": "5f61e72f",
   "metadata": {},
   "outputs": [],
   "source": [
    "robot.left(0.6)\n",
    "time.sleep(0.5)\n",
    "robot.stop()"
   ]
  },
  {
   "cell_type": "code",
   "execution_count": 115,
   "id": "43950195",
   "metadata": {},
   "outputs": [],
   "source": [
    "robot.right(0.6)\n",
    "time.sleep(0.5)\n",
    "robot.stop()"
   ]
  },
  {
   "cell_type": "code",
   "execution_count": 103,
   "id": "b247a5b8",
   "metadata": {},
   "outputs": [],
   "source": [
    "robot.set_motors(8,0.5)\n",
    "time.sleep(0.5)\n",
    "robot.stop()"
   ]
  },
  {
   "cell_type": "markdown",
   "id": "f5751802",
   "metadata": {},
   "source": [
    "# 카메라 높이 조절 모터"
   ]
  },
  {
   "cell_type": "code",
   "execution_count": 47,
   "id": "d154e734",
   "metadata": {},
   "outputs": [],
   "source": [
    "robot.up(1)\n",
    "time.sleep(1.0)\n",
    "robot.vertical_motors_stop()"
   ]
  },
  {
   "cell_type": "code",
   "execution_count": 48,
   "id": "5aa7b79f",
   "metadata": {},
   "outputs": [],
   "source": [
    "robot.down(1)\n",
    "time.sleep(1.0)\n",
    "robot.vertical_motors_stop()"
   ]
  },
  {
   "cell_type": "code",
   "execution_count": 78,
   "id": "51bf4fbf",
   "metadata": {},
   "outputs": [
    {
     "name": "stdout",
     "output_type": "stream",
     "text": [
      "serial Open!\n",
      "132\n",
      "b'\\xff\\xff\\x01\\x07\\x03*\\x084\\x00\\n\\x84'\n",
      "183\n",
      "b'\\xff\\xff\\x02\\x07\\x03*\\x08\\x00\\x00\\n\\xb7'\n",
      "167\n",
      "b'\\xff\\xff\\x01\\x07\\x03*\\x05\\x14\\x00\\n\\xa7'\n"
     ]
    },
    {
     "name": "stderr",
     "output_type": "stream",
     "text": [
      "Exception in thread Thread-24:\n",
      "Traceback (most recent call last):\n",
      "  File \"/usr/lib/python3.6/threading.py\", line 916, in _bootstrap_inner\n",
      "    self.run()\n",
      "  File \"/usr/lib/python3.6/threading.py\", line 864, in run\n",
      "    self._target(*self._args, **self._kwargs)\n",
      "  File \"/usr/local/lib/python3.6/dist-packages/jetbot-0.3.0-py3.6.egg/jetbot/heartbeat.py\", line 35, in _run\n",
      "    self.status = Heartbeat.Status.dead\n",
      "  File \"/usr/local/lib/python3.6/dist-packages/traitlets/traitlets.py\", line 588, in __set__\n",
      "    self.set(obj, value)\n",
      "  File \"/usr/local/lib/python3.6/dist-packages/traitlets/traitlets.py\", line 577, in set\n",
      "    obj._notify_trait(self.name, old_value, new_value)\n",
      "  File \"/usr/local/lib/python3.6/dist-packages/traitlets/traitlets.py\", line 1210, in _notify_trait\n",
      "    type='change',\n",
      "  File \"/usr/local/lib/python3.6/dist-packages/traitlets/traitlets.py\", line 1215, in notify_change\n",
      "    return self._notify_observers(change)\n",
      "  File \"/usr/local/lib/python3.6/dist-packages/traitlets/traitlets.py\", line 1252, in _notify_observers\n",
      "    c(event)\n",
      "  File \"<ipython-input-56-d0d9a837b31e>\", line 5, in handle_heartbeat_status\n",
      "    camera_link.unlink() # 카메라 스트림을 안전하게 중단\n",
      "  File \"/usr/local/lib/python3.6/dist-packages/traitlets/traitlets.py\", line 364, in unlink\n",
      "    self.source[0].unobserve(self._update, names=self.source[1])\n",
      "  File \"/usr/local/lib/python3.6/dist-packages/traitlets/traitlets.py\", line 1362, in unobserve\n",
      "    self._remove_notifiers(handler, n, type)\n",
      "  File \"/usr/local/lib/python3.6/dist-packages/traitlets/traitlets.py\", line 1272, in _remove_notifiers\n",
      "    self._trait_notifiers[name][type].remove(handler)\n",
      "ValueError: list.remove(x): x not in list\n",
      "\n"
     ]
    },
    {
     "name": "stdout",
     "output_type": "stream",
     "text": [
      "166\n",
      "b'\\xff\\xff\\x02\\x07\\x03*\\x05\\x14\\x00\\n\\xa6'\n",
      "132\n",
      "b'\\xff\\xff\\x01\\x07\\x03*\\x084\\x00\\n\\x84'\n",
      "161\n",
      "b'\\xff\\xff\\x02\\x07\\x03*\\x0e\\x10\\x00\\n\\xa1'\n"
     ]
    }
   ],
   "source": [
    "import os \n",
    "os.system(\"sudo chmod 777 /dev/ttyTH1\")\n",
    "from servoserial import ServoSerial # sevo motor \n",
    "\n",
    "\n",
    "servo = ServoSerial()\n",
    "servo.Servo_serial_control(1,2100)\n",
    "time.sleep(0.2)\n",
    "servo.Servo_serial_control(2,2048)\n",
    "\n",
    "servo.Servo_serial_control(1,1300)\n",
    "time.sleep(0.2)\n",
    "servo.Servo_serial_control(2,1300)\n",
    "\n",
    "servo.Servo_serial_control(1,2100)\n",
    "time.sleep(0.2)\n",
    "servo.Servo_serial_control(2,3600)"
   ]
  },
  {
   "cell_type": "code",
   "execution_count": 79,
   "id": "3e2c2e1c",
   "metadata": {},
   "outputs": [
    {
     "name": "stdout",
     "output_type": "stream",
     "text": [
      "132\n",
      "b'\\xff\\xff\\x01\\x07\\x03*\\x084\\x00\\n\\x84'\n",
      "176\n",
      "b'\\xff\\xff\\x02\\x07\\x03*\\x07\\x08\\x00\\n\\xb0'\n"
     ]
    }
   ],
   "source": [
    "servo.Servo_serial_control(1,2100) # 정면\n",
    "time.sleep(0.2)\n",
    "servo.Servo_serial_control(2,1800)"
   ]
  },
  {
   "cell_type": "code",
   "execution_count": 62,
   "id": "5831ba5f",
   "metadata": {},
   "outputs": [],
   "source": [
    "# ! sudo systemctl stop jetbot_start"
   ]
  },
  {
   "cell_type": "code",
   "execution_count": null,
   "id": "1fea7ac4",
   "metadata": {},
   "outputs": [
    {
     "name": "stdout",
     "output_type": "stream",
     "text": [
      "serial Open!\n",
      "serial Close!\n",
      "132\n",
      "b'\\xff\\xff\\x01\\x07\\x03*\\x084\\x00\\n\\x84'\n",
      "183\n",
      "b'\\xff\\xff\\x02\\x07\\x03*\\x08\\x00\\x00\\n\\xb7'\n"
     ]
    }
   ],
   "source": [
    "# 서보 모터 초기화 \n",
    "from servoserial import ServoSerial # sevo motor \n",
    "import time \n",
    "servo_device = ServoSerial()\n",
    "\n",
    "servo_device.Servo_serial_control(1,2100) # A \n",
    "time.sleep(0.2)\n",
    "servo_device.Servo_serial_control(2,2048) # B "
   ]
  },
  {
   "cell_type": "markdown",
   "id": "f49f4d96",
   "metadata": {},
   "source": [
    "# onBoard LED"
   ]
  },
  {
   "cell_type": "code",
   "execution_count": 111,
   "id": "1941a935",
   "metadata": {},
   "outputs": [],
   "source": [
    "from jetbot import Robot \n",
    "import time \n",
    "\n",
    "robot = Robot()\n",
    "robot.set_bln(1)\n",
    "time.sleep(1)\n",
    "robot.set_bln(0)\n",
    "time.sleep(1)\n",
    "robot.set_bln(1)\n",
    "time.sleep(1)\n",
    "robot.set_bln(0)"
   ]
  },
  {
   "cell_type": "code",
   "execution_count": null,
   "id": "e18c80a6",
   "metadata": {},
   "outputs": [],
   "source": []
  }
 ],
 "metadata": {
  "kernelspec": {
   "display_name": "Python 3",
   "language": "python",
   "name": "python3"
  }
 },
 "nbformat": 4,
 "nbformat_minor": 5
}
