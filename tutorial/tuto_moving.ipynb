{
 "cells": [
  {
   "cell_type": "markdown",
   "id": "1fc5333d",
   "metadata": {},
   "source": [
    "# 휠 모터 조절"
   ]
  },
  {
   "cell_type": "code",
   "execution_count": 75,
   "id": "7ec211fb",
   "metadata": {},
   "outputs": [],
   "source": [
    "from jetbot import Robot \n",
    "import time \n",
    "\n",
    "robot = Robot()\n",
    "# 전진 \n",
    "robot.left_motor.value = 0.8 # 0~1 사이의 값 , 0.01 단위로 조절 가능 \n",
    "robot.right_motor.value = 0.8 # 0~1 사이의 값 \n",
    "\n",
    "time.sleep(0.5)\n",
    "robot.stop()\n"
   ]
  },
  {
   "cell_type": "code",
   "execution_count": 110,
   "id": "087436cb",
   "metadata": {},
   "outputs": [],
   "source": [
    "robot.forward(0.5)\n",
    "time.sleep(1)\n",
    "robot.stop()"
   ]
  },
  {
   "cell_type": "code",
   "execution_count": 108,
   "id": "1c07ea7d",
   "metadata": {},
   "outputs": [],
   "source": [
    "# 후진 \n",
    "robot.left_motor.value = -0.8 # - 0~1 사이의 값 \n",
    "robot.right_motor.value = -0.8 # - 0~1 사이의 값 \n",
    "\n",
    "time.sleep(1)\n",
    "robot.stop()"
   ]
  },
  {
   "cell_type": "code",
   "execution_count": 78,
   "id": "83b60858",
   "metadata": {},
   "outputs": [],
   "source": [
    "robot.backward(0.5)\n",
    "time.sleep(0.5)\n",
    "robot.stop()"
   ]
  },
  {
   "cell_type": "code",
   "execution_count": 99,
   "id": "5f61e72f",
   "metadata": {},
   "outputs": [],
   "source": [
    "robot.left(0.6)\n",
    "time.sleep(0.5)\n",
    "robot.stop()"
   ]
  },
  {
   "cell_type": "code",
   "execution_count": 100,
   "id": "43950195",
   "metadata": {},
   "outputs": [],
   "source": [
    "robot.right(0.6)\n",
    "time.sleep(0.5)\n",
    "robot.stop()"
   ]
  },
  {
   "cell_type": "code",
   "execution_count": 103,
   "id": "b247a5b8",
   "metadata": {},
   "outputs": [],
   "source": [
    "robot.set_motors(8,0.5)\n",
    "time.sleep(0.5)\n",
    "robot.stop()"
   ]
  },
  {
   "cell_type": "markdown",
   "id": "f5751802",
   "metadata": {},
   "source": [
    "# 카메라 높이 조절 모터"
   ]
  },
  {
   "cell_type": "code",
   "execution_count": 47,
   "id": "d154e734",
   "metadata": {},
   "outputs": [],
   "source": [
    "robot.up(1)\n",
    "time.sleep(1.0)\n",
    "robot.vertical_motors_stop()"
   ]
  },
  {
   "cell_type": "code",
   "execution_count": 48,
   "id": "5aa7b79f",
   "metadata": {},
   "outputs": [],
   "source": [
    "robot.down(1)\n",
    "time.sleep(1.0)\n",
    "robot.vertical_motors_stop()"
   ]
  },
  {
   "cell_type": "code",
   "execution_count": 64,
   "id": "51bf4fbf",
   "metadata": {},
   "outputs": [
    {
     "name": "stdout",
     "output_type": "stream",
     "text": [
      "serial Open!\n",
      "132\n",
      "b'\\xff\\xff\\x01\\x07\\x03*\\x084\\x00\\n\\x84'\n",
      "183\n",
      "b'\\xff\\xff\\x02\\x07\\x03*\\x08\\x00\\x00\\n\\xb7'\n",
      "167\n",
      "b'\\xff\\xff\\x01\\x07\\x03*\\x05\\x14\\x00\\n\\xa7'\n",
      "166\n",
      "b'\\xff\\xff\\x02\\x07\\x03*\\x05\\x14\\x00\\n\\xa6'\n",
      "132\n",
      "b'\\xff\\xff\\x01\\x07\\x03*\\x084\\x00\\n\\x84'\n",
      "161\n",
      "b'\\xff\\xff\\x02\\x07\\x03*\\x0e\\x10\\x00\\n\\xa1'\n"
     ]
    }
   ],
   "source": [
    "import os \n",
    "os.system(\"sudo chmod 777 /dev/ttyTH1\")\n",
    "from servoserial import ServoSerial # sevo motor \n",
    "\n",
    "\n",
    "servo = ServoSerial()\n",
    "servo.Servo_serial_control(1,2100)\n",
    "time.sleep(0.2)\n",
    "servo.Servo_serial_control(2,2048)\n",
    "\n",
    "servo.Servo_serial_control(1,1300)\n",
    "time.sleep(0.2)\n",
    "servo.Servo_serial_control(2,1300)\n",
    "\n",
    "servo.Servo_serial_control(1,2100)\n",
    "time.sleep(0.2)\n",
    "servo.Servo_serial_control(2,3600)"
   ]
  },
  {
   "cell_type": "code",
   "execution_count": 65,
   "id": "3e2c2e1c",
   "metadata": {},
   "outputs": [
    {
     "name": "stdout",
     "output_type": "stream",
     "text": [
      "132\n",
      "b'\\xff\\xff\\x01\\x07\\x03*\\x084\\x00\\n\\x84'\n",
      "176\n",
      "b'\\xff\\xff\\x02\\x07\\x03*\\x07\\x08\\x00\\n\\xb0'\n"
     ]
    }
   ],
   "source": [
    "servo.Servo_serial_control(1,2100) # 정면\n",
    "time.sleep(0.2)\n",
    "servo.Servo_serial_control(2,1800)"
   ]
  },
  {
   "cell_type": "code",
   "execution_count": 62,
   "id": "5831ba5f",
   "metadata": {},
   "outputs": [],
   "source": [
    "# ! sudo systemctl stop jetbot_start"
   ]
  },
  {
   "cell_type": "code",
   "execution_count": null,
   "id": "1fea7ac4",
   "metadata": {},
   "outputs": [
    {
     "name": "stdout",
     "output_type": "stream",
     "text": [
      "serial Open!\n",
      "serial Close!\n",
      "132\n",
      "b'\\xff\\xff\\x01\\x07\\x03*\\x084\\x00\\n\\x84'\n",
      "183\n",
      "b'\\xff\\xff\\x02\\x07\\x03*\\x08\\x00\\x00\\n\\xb7'\n"
     ]
    }
   ],
   "source": [
    "# 서보 모터 초기화 \n",
    "from servoserial import ServoSerial # sevo motor \n",
    "import time \n",
    "servo_device = ServoSerial()\n",
    "\n",
    "servo_device.Servo_serial_control(1,2100) # A \n",
    "time.sleep(0.2)\n",
    "servo_device.Servo_serial_control(2,2048) # B "
   ]
  },
  {
   "cell_type": "markdown",
   "id": "f49f4d96",
   "metadata": {},
   "source": [
    "# onBoard LED"
   ]
  },
  {
   "cell_type": "code",
   "execution_count": 111,
   "id": "1941a935",
   "metadata": {},
   "outputs": [],
   "source": [
    "from jetbot import Robot \n",
    "import time \n",
    "\n",
    "robot = Robot()\n",
    "robot.set_bln(1)\n",
    "time.sleep(1)\n",
    "robot.set_bln(0)\n",
    "time.sleep(1)\n",
    "robot.set_bln(1)\n",
    "time.sleep(1)\n",
    "robot.set_bln(0)"
   ]
  },
  {
   "cell_type": "code",
   "execution_count": null,
   "id": "e18c80a6",
   "metadata": {},
   "outputs": [],
   "source": []
  }
 ],
 "metadata": {
  "kernelspec": {
   "display_name": "Python 3",
   "language": "python",
   "name": "python3"
  },
  "language_info": {
   "codemirror_mode": {
    "name": "ipython",
    "version": 3
   },
   "file_extension": ".py",
   "mimetype": "text/x-python",
   "name": "python",
   "nbconvert_exporter": "python",
   "pygments_lexer": "ipython3",
   "version": "3.6.9"
  }
 },
 "nbformat": 4,
 "nbformat_minor": 5
}
