{
 "cells": [
  {
   "cell_type": "code",
   "execution_count": null,
   "id": "395abc5c",
   "metadata": {},
   "outputs": [],
   "source": [
    "from jetbot import Camera\n",
    "from jetbot import bgr8_to_jpeg\n",
    "import sys\n",
    "sys.path.append('../')\n",
    "import PID\n",
    "import traitlets\n",
    "import ipywidgets.widgets as widgets\n",
    "from IPython.display import display\n",
    "\n",
    "camera = Camera.instance(width=320, height=320)\n"
   ]
  },
  {
   "cell_type": "code",
   "execution_count": null,
   "id": "c02ee16b",
   "metadata": {},
   "outputs": [],
   "source": []
  }
 ],
 "metadata": {
  "kernelspec": {
   "display_name": "Python 3",
   "language": "python",
   "name": "python3"
  }
 },
 "nbformat": 4,
 "nbformat_minor": 5
}
